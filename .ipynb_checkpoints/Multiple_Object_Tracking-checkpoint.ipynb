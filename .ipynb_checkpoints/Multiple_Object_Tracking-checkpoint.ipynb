{
 "cells": [
  {
   "cell_type": "code",
   "execution_count": 2,
   "id": "f8ce1482",
   "metadata": {},
   "outputs": [],
   "source": [
    "import cv2"
   ]
  },
  {
   "cell_type": "code",
   "execution_count": 3,
   "id": "ba4dbc24",
   "metadata": {},
   "outputs": [],
   "source": [
    "#Listing all the trackers in a dictionary\n",
    "TrDict = {'csrt' : cv2.legacy.TrackerCSRT_create,#Very accurate but slow\n",
    "         'kcf' : cv2.legacy.TrackerKCF_create,#Accuracy is lower than csrt\n",
    "         'boosting' : cv2.legacy.TrackerBoosting_create,\n",
    "         'mil' : cv2.legacy.TrackerMIL_create,\n",
    "         'tld' : cv2.legacy.TrackerTLD_create,\n",
    "         'medianflow' : cv2.legacy.TrackerMedianFlow_create,\n",
    "         'mosse' : cv2.legacy.TrackerMOSSE_create}"
   ]
  },
  {
   "cell_type": "code",
   "execution_count": 4,
   "id": "3d181c81",
   "metadata": {},
   "outputs": [],
   "source": [
    "trackers = cv2.legacy.MultiTracker_create()"
   ]
  },
  {
   "cell_type": "code",
   "execution_count": 5,
   "id": "1a310764",
   "metadata": {},
   "outputs": [],
   "source": [
    "video = cv2.VideoCapture('detection_video.mp4')"
   ]
  },
  {
   "cell_type": "code",
   "execution_count": 6,
   "id": "84d4826b",
   "metadata": {},
   "outputs": [],
   "source": [
    "ret, frame = video.read()"
   ]
  },
  {
   "cell_type": "code",
   "execution_count": 7,
   "id": "ad57183d",
   "metadata": {},
   "outputs": [],
   "source": [
    "k = 3 #For 3 object trackings\n",
    "for i in range(k):\n",
    "    cv2.imshow('Frame',frame)\n",
    "    bbi = cv2.selectROI('Frame',frame)\n",
    "    tracker_i = TrDict['csrt']()\n",
    "    trackers.add(tracker_i,frame,bbi)\n",
    "    #key = cv2.waitKey(5) & 0xFF #Waiting and checking if the user presses q to stop the video\n",
    "    #if key == ord('k'):\n",
    "    #    break"
   ]
  },
  {
   "cell_type": "code",
   "execution_count": 8,
   "id": "59199e15",
   "metadata": {},
   "outputs": [],
   "source": [
    "while True:\n",
    "    ret, frame = video.read()\n",
    "    if not ret:\n",
    "        break\n",
    "    (success,boxes) = trackers.update(frame)#All trackers update\n",
    "    for box in boxes:\n",
    "        if success:\n",
    "            (x,y,w,h) = [int(a) for a in box] #For the box\n",
    "            cv2.rectangle(frame,(x,y),(x+w,y+h),(255,0,0),2)#Drawing the rectangle\n",
    "    cv2.imshow('Frame',frame)#To show the frame\n",
    "    key = cv2.waitKey(5) & 0xFF #Waiting and checking if the user presses q to stop the video\n",
    "    if key == ord('q'):\n",
    "        break\n",
    "video.release()\n",
    "cv2.destroyAllWindows()"
   ]
  }
 ],
 "metadata": {
  "kernelspec": {
   "display_name": "Python 3",
   "language": "python",
   "name": "python3"
  },
  "language_info": {
   "codemirror_mode": {
    "name": "ipython",
    "version": 3
   },
   "file_extension": ".py",
   "mimetype": "text/x-python",
   "name": "python",
   "nbconvert_exporter": "python",
   "pygments_lexer": "ipython3",
   "version": "3.8.8"
  }
 },
 "nbformat": 4,
 "nbformat_minor": 5
}
