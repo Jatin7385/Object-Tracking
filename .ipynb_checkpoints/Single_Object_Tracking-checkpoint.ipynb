{
 "cells": [
  {
   "cell_type": "code",
   "execution_count": 1,
   "id": "7d2d7f70",
   "metadata": {},
   "outputs": [],
   "source": [
    "import cv2\n",
    "import numpy as np\n",
    "import matplotlib.pyplot as plt"
   ]
  },
  {
   "cell_type": "code",
   "execution_count": 2,
   "id": "d0efd94c",
   "metadata": {},
   "outputs": [],
   "source": [
    "#Listing all the trackers in a dictionary\n",
    "TrDict = {'csrt' : cv2.legacy.TrackerCSRT_create,#Very accurate but slow\n",
    "         'kcf' : cv2.legacy.TrackerKCF_create,#Accuracy is lower than csrt\n",
    "         'boosting' : cv2.legacy.TrackerBoosting_create,\n",
    "         'mil' : cv2.legacy.TrackerMIL_create,\n",
    "         'tld' : cv2.legacy.TrackerTLD_create,\n",
    "         'medianflow' : cv2.legacy.TrackerMedianFlow_create,\n",
    "         'mosse' : cv2.legacy.TrackerMOSSE_create}"
   ]
  },
  {
   "cell_type": "code",
   "execution_count": 3,
   "id": "15d18d00",
   "metadata": {},
   "outputs": [],
   "source": [
    "#Using csrt tracker\n",
    "tracker = TrDict['csrt']()"
   ]
  },
  {
   "cell_type": "code",
   "execution_count": 4,
   "id": "311621c4",
   "metadata": {},
   "outputs": [],
   "source": [
    "video = cv2.VideoCapture('detection_video.mp4') #Path to the video"
   ]
  },
  {
   "cell_type": "code",
   "execution_count": 5,
   "id": "77270836",
   "metadata": {},
   "outputs": [
    {
     "data": {
      "text/plain": [
       "True"
      ]
     },
     "execution_count": 5,
     "metadata": {},
     "output_type": "execute_result"
    }
   ],
   "source": [
    "ret,frame = video.read() #return value, frame\n",
    "cv2.imshow('Frame',frame) #Frame is the name of the window\n",
    "bb = cv2.selectROI('Frame',frame) #Select Region Of Interest\n",
    "tracker.init(frame,bb) #Initialising the tracker"
   ]
  },
  {
   "cell_type": "code",
   "execution_count": 6,
   "id": "27193c69",
   "metadata": {},
   "outputs": [],
   "source": [
    "while True:\n",
    "    ret, frame = video.read()\n",
    "    if not ret:\n",
    "        break\n",
    "    else:\n",
    "        (success,box) = tracker.update(frame)\n",
    "        if success:\n",
    "            (x,y,w,h) = [int(a) for a in box] #For the box\n",
    "            cv2.rectangle(frame,(x,y),(x+w,y+h),(255,0,0),2)#Drawing the rectangle\n",
    "    cv2.imshow('Frame',frame)#To show the frame\n",
    "    key = cv2.waitKey(5) & 0xFF #Waiting and checking if the user presses q to stop the video\n",
    "    if key == ord('q'):\n",
    "        break\n",
    "video.release()\n",
    "cv2.destroyAllWindows()"
   ]
  }
 ],
 "metadata": {
  "kernelspec": {
   "display_name": "Python 3",
   "language": "python",
   "name": "python3"
  },
  "language_info": {
   "codemirror_mode": {
    "name": "ipython",
    "version": 3
   },
   "file_extension": ".py",
   "mimetype": "text/x-python",
   "name": "python",
   "nbconvert_exporter": "python",
   "pygments_lexer": "ipython3",
   "version": "3.8.8"
  }
 },
 "nbformat": 4,
 "nbformat_minor": 5
}
